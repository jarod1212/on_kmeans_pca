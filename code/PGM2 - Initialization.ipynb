{
  "cells": [
    {
      "cell_type": "markdown",
      "metadata": {
        "id": "3a0cAw338UF0"
      },
      "source": [
        "# Impact of the initialization"
      ]
    },
    {
      "cell_type": "markdown",
      "metadata": {
        "id": "YZA7PUU1cQ9Q"
      },
      "source": [
        "> In this study, we endeavor to ascertain a more efficacious initialization approach for K-means clustering, specifically focusing on the PCA+K-means method. This approach is grounded in the theoretical analysis positing that the optimal solution for K-means clustering is inherently situated within the PCA-subspace. Our objective is to empirically validate the hypothesis that the PCA+K-means method generally yields superior performance outcomes.\n",
        "\n",
        "> To this end, we will conduct a comparative analysis of the PCA+K-means method against four alternative initialization strategies: random initialization, the K-means++ method, the KR method, and the KKZ method.\n",
        "\n",
        "> This investigation is extensively influenced by the experimental frameworks and insights presented in the paper titled **PCA-guided search for K-means**. Our work aims to not only replicate but also expand to other datasets and provide a careful analysis."
      ]
    },
    {
      "cell_type": "markdown",
      "metadata": {
        "id": "vqhqenih8S-w"
      },
      "source": [
        "**Metrics**\n",
        "\n",
        "Our evaluation is based on two key metrics: **Clustering Accuracy** and the **Davies-Bouldin (DB) index**.\n",
        "\n",
        "Accuracy, though typically used in supervised learning, provides insight when ground truth labels are available, allowing for a direct comparison of clustering assignments. The DB index offers a nuanced understanding of the cluster quality, assessing both inter-cluster separation and intra-cluster compactness . This dual-metric approach facilitates a comprehensive assessment of the clustering outcomes under different initialization scenarios."
      ]
    },
    {
      "cell_type": "code",
      "execution_count": null,
      "metadata": {
        "id": "86m3igCVDHuK"
      },
      "outputs": [],
      "source": [
        "# If needed \n",
        "!pip install ucimlrepo\n",
        "!pip install seaborn"
      ]
    },
    {
      "cell_type": "code",
      "execution_count": null,
      "metadata": {
        "id": "FioPq0cQl4qg"
      },
      "outputs": [],
      "source": [
        "# Imports\n",
        "\n",
        "from utils import *\n",
        "\n",
        "import numpy as np\n",
        "import pandas as pd\n",
        "\n",
        "import matplotlib.pyplot as plt\n",
        "import seaborn as sns\n",
        "\n",
        "from ucimlrepo import fetch_ucirepo\n",
        "import tensorflow as tf\n",
        "\n",
        "from sklearn import datasets\n",
        "\n",
        "import warnings\n",
        "warnings.filterwarnings(\"ignore\")"
      ]
    },
    {
      "cell_type": "markdown",
      "metadata": {
        "id": "A4frUfCCeFly"
      },
      "source": [
        "**The 4 types of initialization**\n",
        "\n",
        "\n",
        "\n",
        "*   **Random** is the naïve approach\n",
        "\n",
        "\n",
        "*   **KR method** was developed by Kaufman and Rousseeuw. It selects the initial centroids one after another. The first centroid is the most centrally located in the set of objects. The remaining centroids are then chosen in a certain way in which each chosen centroid is expected to be far away from\n",
        "the previously selected centroids but still have many data points close\n",
        "to it.\n",
        "\n",
        "\n",
        "*  **KKZ method** was developed by Katsavounidis & al. It proposes that the first centroid should be the one which has the maximum norm. Then for each nonselected data point, it sets the minimal distance between it and the centroid set as the distance between them, then choose the candidate point which has the maximal distance between it and the centroids as the next centroid. It repeats this until K centroids have been chosen.\n",
        "\n",
        "\n",
        "*   **K-means++** was developed by Arthur and Vassilvitskii. It proposes a\n",
        "method which selects the K centroids greedily. The first centroid is\n",
        "selected randomly from the data set. Then the next point x is chosen\n",
        "as the centroid with a certain probability. Repeated until K centroids are identified.\n",
        "\n",
        "\n",
        "\n"
      ]
    },
    {
      "cell_type": "markdown",
      "metadata": {
        "id": "bjfinKhv9ZNu"
      },
      "source": [
        "**Methodology**\n",
        "\n",
        "In this study, we adopt a systematic approach to investigate the influence of various initialization methods on the performance of K-means clustering. Our methodology is structured as follows:\n",
        "\n",
        "**Datasets**: We have selected six diverse datasets to ensure a comprehensive analysis across different types of data. These datasets are:\n",
        "\n",
        "**Iris Dataset**:\n",
        "- Description: A classic dataset in machine learning, the Iris dataset contains measurements of 150 iris flowers, representing three different species. Each instance is described by four features: sepal length, sepal width, petal length, and petal width.\n",
        "- Purpose in Experiment: This dataset serves as an excellent baseline for clustering algorithms due to its simplicity and well-understood characteristics.\n",
        "\n",
        "\n",
        "**Wine Dataset**:\n",
        "- Description: The Wine dataset consists of chemical analysis results of 178 wine samples, derived from three different cultivars. The analysis determined the quantities of 13 constituents found in each wine, providing a rich multidimensional feature space.\n",
        "- Purpose in Experiment: This dataset offers a more complex clustering challenge than the Iris dataset due to a higher number of features and instances.\n",
        "\n",
        "\n",
        "**Image Segmentation Dataset**:\n",
        "- Description: Used for evaluating image segmentation tasks, this dataset contains instances derived from images, each represented by various features extracted for segmentation purposes, such as color, texture, and shape descriptors.\n",
        "- Purpose in Experiment: It provides a practical application of clustering in image processing and pattern recognition, with a focus on segmenting distinct regions in images.\n",
        "\n",
        "\n",
        "**Glass Dataset**:\n",
        "- Description: The Glass dataset includes data for classifying types of glass based on their oxide content. It encompasses several oxide types as features and is used to differentiate between glass types for forensic science applications.\n",
        "- Purpose in Experiment: With its unique application in forensic analysis, this dataset adds diversity to the clustering problems, focusing on material classification.\n",
        "\n",
        "**MNIST Handwritten Digits Dataset**:\n",
        "- Description: Comprising 8-bit grayscale images of digits 0 through 9, the MNIST dataset is a benchmark in machine learning for image data. For the experiment, we select the first 50 images from each class, flattening them into vectors of dimension 784.\n",
        "- Purpose in Experiment: This dataset represents a significant challenge due to its high dimensionality and the complexity inherent in image data, making it ideal for testing the robustness of clustering algorithms.\n",
        "\n",
        "**Initialization Methods**: We will apply K-means clustering using four different initialization methods:\n",
        "\n",
        "- K-means with PCA reduction (2, 3 or features/2 number of components then take the best one according to DB index)\n",
        "- Random initialization\n",
        "- K-means++\n",
        "- KR\n",
        "- KKZ\n",
        "\n",
        "**Number of Runs**:\n",
        "- Each clustering experiment will be repeated 100 times to mitigate the variability inherent in the clustering process and initialization.\n",
        "\n",
        "**Metrics Evaluation**:\n",
        "- Accuracy: proportion of correctly clustered instances.\n",
        "- Davies-Bouldin Index: to assess the quality of clustering in terms of intra-cluster compactness and inter-cluster separation.\n",
        "- Averaging Results: The results from the 100 runs for each dataset and initialization method will be averaged to provide a more robust and reliable measure of performance.\n",
        "\n",
        "This methodology ensures a rigorous and comprehensive evaluation of the impact of initialization on K-means clustering, providing valuable insights into the most effective practices in different data scenarios."
      ]
    },
    {
      "cell_type": "code",
      "execution_count": null,
      "metadata": {
        "id": "5thbTb7KBRUB"
      },
      "outputs": [],
      "source": [
        "def load_mnist_subset():\n",
        "    # Load the MNIST dataset\n",
        "    (X_train, y_train), _ = tf.keras.datasets.mnist.load_data()\n",
        "\n",
        "    # Select first 50 images from each class (digit 0-9)\n",
        "    selected_images = []\n",
        "    selected_labels = []\n",
        "    for digit in range(10):\n",
        "        digit_images = X_train[y_train == digit]\n",
        "        selected_images.append(digit_images[:50])\n",
        "        selected_labels.extend([digit] * 50)\n",
        "\n",
        "    # Convert list of arrays into a single array\n",
        "    selected_images = np.vstack(selected_images)\n",
        "\n",
        "    # Flatten each image to a 784-dimensional vector\n",
        "    selected_images_flattened = selected_images.reshape(-1, 784)\n",
        "\n",
        "    return selected_images_flattened, np.array(selected_labels)\n",
        "\n",
        "\n",
        "def load_dataset(name):\n",
        "    if name == 'iris':\n",
        "        data = datasets.load_iris()\n",
        "        X, y = data.data, data.target\n",
        "        scaler = MyStandardScaler()\n",
        "        X_scaled = scaler.fit_transform(X)\n",
        "        n_clusters = 3\n",
        "\n",
        "    if name == 'wine':\n",
        "      wine = fetch_ucirepo(id=109)\n",
        "      X = np.array(wine.data.features)\n",
        "      y = np.array(wine.data.targets).ravel()\n",
        "      scaler = MyStandardScaler()\n",
        "      X_scaled = scaler.fit_transform(X)\n",
        "      n_clusters = 3\n",
        "\n",
        "    if name == 'image_segmentation':\n",
        "      image_segmentation = fetch_ucirepo(id=50)\n",
        "      X = np.array(image_segmentation.data.features)\n",
        "      y = np.array(image_segmentation.data.targets).ravel()\n",
        "      mapping = create_label_mapping(y)\n",
        "      labels_num = map_labels(y, mapping)\n",
        "      y = np.array(labels_num)\n",
        "      scaler = MyStandardScaler()\n",
        "      X_scaled = scaler.fit_transform(X)\n",
        "      n_clusters = 7\n",
        "\n",
        "    if name == 'glass':\n",
        "      glass_identification = fetch_ucirepo(id=42)\n",
        "      X = np.array(glass_identification.data.features)\n",
        "      y = np.array(glass_identification.data.targets).ravel()\n",
        "      scaler = MyStandardScaler()\n",
        "      X_scaled = scaler.fit_transform(X)\n",
        "      n_clusters = 7\n",
        "\n",
        "    if name == 'mnist':\n",
        "      X, y = load_mnist_subset()\n",
        "      n_clusters = 10\n",
        "      scaler = MyStandardScaler()\n",
        "      X_scaled = scaler.fit_transform(X)\n",
        "\n",
        "    return X_scaled, y, n_clusters\n",
        "\n",
        "\n",
        "def run_kmeans(X, y, init_method, n_clusters, n_runs=100):\n",
        "    db_indexes = []\n",
        "    accuracies = []\n",
        "    for _ in range(n_runs):\n",
        "        kmeans = KMeans(k=n_clusters, init=init_method)\n",
        "        kmeans.fit(X)\n",
        "        db_index = davies_bouldin_score(X, kmeans.labels)\n",
        "        accuracy = clustering_accuracy(y, kmeans.labels)\n",
        "        db_indexes.append(db_index)\n",
        "        accuracies.append(accuracy)\n",
        "    return np.mean(db_indexes), np.mean(accuracies)\n",
        "\n",
        "def pca_reduction(X, n_components):\n",
        "    pca = PCA(n_components=n_components)\n",
        "    return pca.fit_transform(X)"
      ]
    },
    {
      "cell_type": "code",
      "execution_count": null,
      "metadata": {
        "id": "rgJx-PuVBNzv"
      },
      "outputs": [],
      "source": [
        "def experiment(dataset_name):\n",
        "    X, y, n_clusters = load_dataset(dataset_name)\n",
        "    init_methods = ['random', 'KR', 'k-means++', 'KKZ']\n",
        "    pca_components = [X.shape[1] // 2, 3, 2]\n",
        "    results = {}\n",
        "\n",
        "    for method in init_methods:\n",
        "        db_index, accuracy = run_kmeans(X, y, method, n_clusters)\n",
        "        results[method] = {'DB Index': db_index, 'Accuracy': accuracy}\n",
        "    # PCA-guided K-means\n",
        "\n",
        "    pca_results = []\n",
        "    for components in pca_components:\n",
        "        X_pca = pca_reduction(X, components)\n",
        "        db_index, accuracy = run_kmeans(X_pca.real, y, 'random', n_clusters)\n",
        "        pca_results.append((components, db_index, accuracy))\n",
        "    best_pca_result = min(pca_results, key=lambda x: x[1])  # Select best based on DB Index\n",
        "    results['PCA'] = {'DB Index': best_pca_result[1], 'Accuracy': best_pca_result[2]}\n",
        "\n",
        "    return results"
      ]
    },
    {
      "cell_type": "code",
      "execution_count": null,
      "metadata": {
        "colab": {
          "base_uri": "https://localhost:8080/"
        },
        "id": "-AtLwPw2CFhg",
        "outputId": "6429e4ed-f482-4311-8b25-35526820981b"
      },
      "outputs": [
        {
          "name": "stdout",
          "output_type": "stream",
          "text": [
            "{'random': {'DB Index': 0.8158799568204315, 'Accuracy': 0.7975999999999999}, 'KR': {'DB Index': 0.8324162130910139, 'Accuracy': 0.8133333333333331}, 'k-means++': {'DB Index': 0.8180767603723919, 'Accuracy': 0.8072666666666667}, 'KKZ': {'DB Index': 0.8275118026450466, 'Accuracy': 0.8533333333333336}, 'PCA': {'DB Index': 0.7102162138893893, 'Accuracy': 0.7818}}\n"
          ]
        }
      ],
      "source": [
        "dataset_name = 'iris'\n",
        "iris_results = experiment(dataset_name)\n",
        "print(iris_results)"
      ]
    },
    {
      "cell_type": "code",
      "execution_count": null,
      "metadata": {
        "colab": {
          "base_uri": "https://localhost:8080/"
        },
        "id": "gw5iGF-kCGUr",
        "outputId": "4bbc133b-46df-41cc-fc53-bb59ba775753"
      },
      "outputs": [
        {
          "name": "stdout",
          "output_type": "stream",
          "text": [
            "{'random': {'DB Index': 1.3953362613980191, 'Accuracy': 0.9447191011235955}, 'KR': {'DB Index': 1.3938008647586724, 'Accuracy': 0.9606741573033711}, 'k-means++': {'DB Index': 1.394186937224121, 'Accuracy': 0.9542134831460675}, 'KKZ': {'DB Index': 1.3938008647586724, 'Accuracy': 0.9606741573033711}, 'PCA': {'DB Index': 0.5968590786174842, 'Accuracy': 0.9590449438202248}}\n"
          ]
        }
      ],
      "source": [
        "dataset_name = 'wine'\n",
        "wine_results = experiment(dataset_name)\n",
        "print(wine_results)"
      ]
    },
    {
      "cell_type": "code",
      "execution_count": null,
      "metadata": {
        "colab": {
          "base_uri": "https://localhost:8080/"
        },
        "id": "kcI-4akOFaAt",
        "outputId": "1d94adc1-a354-4f8a-9dc6-c1a6bcd5dc31"
      },
      "outputs": [
        {
          "name": "stdout",
          "output_type": "stream",
          "text": [
            "{'random': {'DB Index': 1.2753948193838343, 'Accuracy': 0.6269523809523809}, 'KR': {'DB Index': 0.639936675950511, 'Accuracy': 0.3333333333333334}, 'k-means++': {'DB Index': 1.2012433743357553, 'Accuracy': 0.6131904761904762}, 'KKZ': {'DB Index': 0.8783569928468785, 'Accuracy': 0.45238095238095233}, 'PCA': {'DB Index': 0.7429544066135574, 'Accuracy': 0.5082380952380952}}\n"
          ]
        }
      ],
      "source": [
        "dataset_name = 'image_segmentation'\n",
        "image_segmentation_results = experiment(dataset_name)\n",
        "print(image_segmentation_results)"
      ]
    },
    {
      "cell_type": "code",
      "execution_count": null,
      "metadata": {
        "colab": {
          "base_uri": "https://localhost:8080/"
        },
        "id": "nso1hKfpFaT4",
        "outputId": "02c6e097-8c11-4d84-b6fa-d32a70fe12dc"
      },
      "outputs": [
        {
          "name": "stdout",
          "output_type": "stream",
          "text": [
            "{'random': {'DB Index': 1.1819160439759135, 'Accuracy': 0.5602336448598131}, 'KR': {'DB Index': 0.8114388460250177, 'Accuracy': 0.5186915887850468}, 'k-means++': {'DB Index': 1.1135837734318528, 'Accuracy': 0.5616822429906542}, 'KKZ': {'DB Index': 1.0385501297818092, 'Accuracy': 0.5186915887850468}, 'PCA': {'DB Index': 0.7261701229590517, 'Accuracy': 0.6156542056074766}}\n"
          ]
        }
      ],
      "source": [
        "dataset_name = 'glass'\n",
        "glass_results = experiment(dataset_name)\n",
        "print(glass_results)"
      ]
    },
    {
      "cell_type": "code",
      "execution_count": null,
      "metadata": {
        "colab": {
          "base_uri": "https://localhost:8080/"
        },
        "id": "Rguh7NAOFjAU",
        "outputId": "f954a44c-cb1c-42e5-9914-d5cae2a05ba1"
      },
      "outputs": [
        {
          "name": "stdout",
          "output_type": "stream",
          "text": [
            "Downloading data from https://storage.googleapis.com/tensorflow/tf-keras-datasets/mnist.npz\n",
            "11490434/11490434 [==============================] - 0s 0us/step\n",
            "{'random': {'DB Index': 2.6619562080121226, 'Accuracy': 0.4842}, 'KR': {'DB Index': 0.40186478503885065, 'Accuracy': 0.11799999999999997}, 'k-means++': {'DB Index': 2.59205962906801, 'Accuracy': 0.46176}, 'KKZ': {'DB Index': 2.2660317604427958, 'Accuracy': 0.396}, 'PCA': {'DB Index': 0.817351070463443, 'Accuracy': 0.36095999999999995}}\n"
          ]
        }
      ],
      "source": [
        "dataset_name = 'mnist'\n",
        "mnist_results = experiment(dataset_name)\n",
        "print(mnist_results)"
      ]
    },
    {
      "cell_type": "code",
      "execution_count": null,
      "metadata": {
        "id": "wft-K6trHYr5"
      },
      "outputs": [],
      "source": [
        "# Consolidate results into a DataFrame\n",
        "datasets = ['Iris', 'Wine', 'Image Segmentation', 'Glass', 'MNIST']\n",
        "init_methods = ['random', 'KR', 'k-means++', 'KKZ', 'PCA']\n",
        "\n",
        "# Initialize an empty DataFrame\n",
        "df = pd.DataFrame(columns=['Dataset', 'Initialization', 'DB Index', 'Accuracy'])\n",
        "\n",
        "# Populate the DataFrame\n",
        "for dataset, results in zip(datasets, [iris_results, wine_results, image_segmentation_results, glass_results, mnist_results]):\n",
        "    for method in init_methods:\n",
        "        db_index = results[method]['DB Index']\n",
        "        accuracy = results[method]['Accuracy']\n",
        "        df = df.append({'Dataset': dataset, 'Initialization': method, 'DB Index': db_index, 'Accuracy': accuracy}, ignore_index=True)"
      ]
    },
    {
      "cell_type": "code",
      "execution_count": null,
      "metadata": {
        "colab": {
          "base_uri": "https://localhost:8080/",
          "height": 718
        },
        "id": "ljufrPtaMvoG",
        "outputId": "87954ffe-8e1b-48b9-e3bb-2761cf0f4976"
      },
      "outputs": [
        {
          "data": {
            "image/png": "[encoded data removed]",
            "text/plain": [
              "<Figure size 800x800 with 1 Axes>"
            ]
          },
          "metadata": {},
          "output_type": "display_data"
        }
      ],
      "source": [
        "plt.figure(figsize=(8, 8))\n",
        "sns.barplot(x='Dataset', y='DB Index', hue='Initialization', data=df)\n",
        "plt.title('DB Index Across Datasets and Initialization Methods')\n",
        "plt.show()"
      ]
    },
    {
      "cell_type": "code",
      "execution_count": null,
      "metadata": {
        "colab": {
          "base_uri": "https://localhost:8080/",
          "height": 718
        },
        "id": "w1NHIUhjMxKH",
        "outputId": "0d78edc4-1f07-403b-fa16-82856abe59be"
      },
      "outputs": [
        {
          "data": {
            "image/png": "[encoded data removed]",
            "text/plain": [
              "<Figure size 800x800 with 1 Axes>"
            ]
          },
          "metadata": {},
          "output_type": "display_data"
        }
      ],
      "source": [
        "plt.figure(figsize=(8, 8))\n",
        "sns.barplot(x='Dataset', y='Accuracy', hue='Initialization', data=df)\n",
        "plt.title('Accuracy Across Datasets and Initialization Methods')\n",
        "plt.show()"
      ]
    },
    {
      "cell_type": "markdown",
      "metadata": {
        "id": "I7kPHqCGVeqr"
      },
      "source": [
        "**Analysis and Interpretation**\n",
        "\n",
        "The bar plots generated from the experiment compare the Davies-Bouldin (DB) Index and Accuracy across different datasets for various initialization methods in K-means clustering. The DB Index aims for a lower score (indicating well-separated and compact clusters), while Accuracy aims for a higher score (indicating a closer match to the true labels).\n",
        "\n",
        "PCA reduces the dimensionality of the data by projecting it onto the components that explain the most variance. This can often help K-means perform better by mitigating the curse of dimensionality and noise. PCA also helps in placing the initial centroids in the directions of maximum variance, potentially leading to better starting conditions for K-means. By emphasizing the most significant structure in the data, PCA can lead to clusters that are better separated in the reduced space, as can be inferred from the generally lower DB Index.\n",
        "\n",
        "The PCA + K-means method generally results in a lower DB Index across most datasets, suggesting that it consistently produces clusters with better separation and compactness. It also shows competitive accuracy, being the highest on the Wine and Glass dataset, which indicates that the clusters formed are more aligned with the true labels of the data.\n",
        "\n",
        "Despite its theoretical advantages, the PCA + K-means method does not perform as well on the MNIST dataset. The potential reasons could be:\n",
        "\n",
        "\n",
        "\n",
        "*   High Variance Across Many Dimensions: MNIST is a high-dimensional dataset (784 dimensions) with significant variance across many of those dimensions. PCA reduces the data to fewer dimensions, which may lead to the loss of critical information that is necessary for accurate clustering of complex images like handwritten digits.\n",
        "*   Non-linear Structures: The underlying structure of the MNIST data might be non-linear, which PCA (a linear method) might not capture effectively. This can lead to suboptimal initial centroids after the PCA transformation, affecting both the DB Index and accuracy.\n",
        "*   Uniform Distribution of Variance: If the variance is more uniformly distributed across the dimensions, the PCA may not be as effective in identifying directions that improve the clustering performance significantly.\n",
        "*   Data Sparsity: Handwritten digit images often have a lot of empty or near-empty pixels, leading to sparse data. PCA is less effective on sparse data because the low-variance components it discards might still contain important information for clustering.\n",
        "\n",
        "Notably, KR method performs really well on the MNIST dataset regarding DB index.\n",
        "Its approach to placing initial centroids both in dense regions and spread out across the dataset can lead to more effective clustering in high-dimensional spaces like MNIST.\n",
        "\n",
        "**Limitations**\n",
        "\n",
        "The experimental design reveals certain limitations. The PCA+K-means method was applied with a rudimentary random initialization post dimensionality reduction. A synthesis of this approach with a sophisticated initialization technique may yield superior outcomes. Additionally, the dimension reduction was confined to a narrow set of possibilities: precisely 2, 3, or half the number of features. A meticulous examination of each dataset to determine the optimal number of components might further enhance the performance."
      ]
    },
    {
      "cell_type": "markdown",
      "metadata": {
        "id": "LOsi5IOohCNl"
      },
      "source": [
        "**Conclusion**\n",
        "\n",
        "While PCA + K-means shows theoretical and experimental arguments for being an effective initialization method for clustering, its performance on datasets like MNIST can be hindered due to the loss of information through dimensionality reduction, the presence of non-linear structures in the data, and the potential sparsity of image data. This suggests that for image datasets and other complex, high-dimensional data, alternative dimensionality reduction techniques or clustering initialization methods that preserve more of the data's inherent structure might be more appropriate."
      ]
    },
    {
      "cell_type": "markdown",
      "metadata": {
        "id": "0qQuFItQhIx3"
      },
      "source": [
        "**Coming next...**\n",
        "\n",
        "Building upon the findings of our current research, the next notebook will delve into two notable limitations of the PCA+K-means method: its reliance on linear assumptions and its susceptibility to noise."
      ]
    }
  ],
  "metadata": {
    "colab": {
      "provenance": []
    },
    "kernelspec": {
      "display_name": "Python 3",
      "name": "python3"
    },
    "language_info": {
      "name": "python"
    }
  },
  "nbformat": 4,
  "nbformat_minor": 0
}
